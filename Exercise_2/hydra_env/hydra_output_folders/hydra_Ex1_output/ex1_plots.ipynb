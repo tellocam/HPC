{
 "cells": [
  {
   "cell_type": "code",
   "execution_count": 12,
   "metadata": {},
   "outputs": [
    {
     "name": "stdout",
     "output_type": "stream",
     "text": [
      "EX1_32_1_10\n"
     ]
    }
   ],
   "source": [
    "import pandas as pd\n",
    "import glob\n",
    "import matplotlib.pyplot as plt\n",
    "\n",
    "# Use glob to find all .txt files\n",
    "txt_files = glob.glob(\"EX1_*.txt\")\n",
    "#print(txt_files)\n",
    "# txt_files = [item.replace('_2.txt', '_P2') for item in txt_files]\n",
    "# txt_files = [item.replace('_10.txt', '_P10') for item in txt_files]\n",
    "# txt_files = [item.replace('EX1_1_', 'N1_') for item in txt_files]\n",
    "# txt_files = [item.replace('EX1_20_', 'N20_') for item in txt_files]\n",
    "# txt_files = [item.replace('EX1_32_', 'N32_') for item in txt_files] #DO NOT FORGET TO RERUN THE DATA ON HYDRA AND RUN WITH 36 NODES!\n",
    "# txt_files = [item.replace('_1_', '_TPN1_')for item in txt_files]\n",
    "# txt_files = [item.replace('_16_', '_TPN16_')for item in txt_files]\n",
    "# txt_files = [item.replace('_32_', '_TPN32_')for item in txt_files]\n",
    "\n",
    "def change_filename(txt_name1):\n",
    "    txt_name = str(txt_name1)\n",
    "    # Change number of nodes prefix\n",
    "    if 'EX1_1' in txt_name:\n",
    "        txt_name.replace('EX1_1', 'N1')\n",
    "    if 'EX1_20' in txt_name:\n",
    "        txt_name.replace('EX1_20', 'N20')\n",
    "    if 'EX1_32' in txt_name:\n",
    "        txt_name.replace('EX1_32', 'N32')\n",
    "    # Change power Suffix\n",
    "    if '_2.txt' in txt_name:\n",
    "        txt_name.replace('_2.txt', 'P2')\n",
    "    if '_10.txt' in txt_name:\n",
    "        txt_name.replace('_10.txt', 'P10')\n",
    "    # Change Tasks Per Node chars\n",
    "    if '_1_' in txt_name:\n",
    "        txt_name.replace('_1_', '_TPN1_')\n",
    "    if '_16_' in txt_name:\n",
    "        txt_name.replace('_16_', '_TPN16')\n",
    "    if '_32_' in txt_name:\n",
    "        txt_name.replace('_32_', '_TPN32_')\n",
    "    return str(txt_name)\n",
    "\n",
    "df_dict = {}\n",
    "for file in txt_files:\n",
    "    df = pd.read_csv(file, sep=',', header=None)\n",
    "    df.rename(columns={0:\"count\", 1:\"bytes\", 2:\"avg\", 3:\"min\", 4:\"med\", 5:\"stddev\", 6:\"CI\"}, inplace=True)\n",
    "    df_dict[change_filename(file)] = df\n",
    "#print(df_dict)\n",
    "\n",
    "print(change_filename('EX1_32_1_10'))\n",
    "\n",
    "\n",
    "# Loop through the txt files and create a DataFrame for each one\n",
    "#for file in txt_files:\n",
    "    # Read in the file and create a DataFrame\n",
    "   # df = pd.read_csv(file, sep=',', header=None)\n",
    "\n",
    "    # Add the DataFrame to the list\n",
    "    #df_list.append(df)\n",
    "\n",
    "# Plot all the DataFrames\n",
    "#for df in df_list:\n",
    "    #df.rename(columns={0:\"count\", 1:\"bytes\", 2:\"avg\", 3:\"min\", 4:\"med\", 5:\"stddev\", 6:\"CI\"}, inplace=True)\n",
    "    #print(df.columns.values)"
   ]
  }
 ],
 "metadata": {
  "kernelspec": {
   "display_name": "Python 3",
   "language": "python",
   "name": "python3"
  },
  "language_info": {
   "codemirror_mode": {
    "name": "ipython",
    "version": 3
   },
   "file_extension": ".py",
   "mimetype": "text/x-python",
   "name": "python",
   "nbconvert_exporter": "python",
   "pygments_lexer": "ipython3",
   "version": "3.8.10"
  },
  "orig_nbformat": 4,
  "vscode": {
   "interpreter": {
    "hash": "916dbcbb3f70747c44a77c7bcd40155683ae19c65e1c03b4aa3499c5328201f1"
   }
  }
 },
 "nbformat": 4,
 "nbformat_minor": 2
}
