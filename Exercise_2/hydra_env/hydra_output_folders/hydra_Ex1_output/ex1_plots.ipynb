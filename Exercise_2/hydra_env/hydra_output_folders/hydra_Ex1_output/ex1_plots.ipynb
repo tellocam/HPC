{
 "cells": [
  {
   "cell_type": "code",
   "execution_count": 33,
   "metadata": {},
   "outputs": [],
   "source": [
    "import pandas as pd\n",
    "import glob\n",
    "import matplotlib.pyplot as plt\n",
    "import numpy as np\n",
    "from pylab import rcParams\n",
    "\n",
    "rcParams['figure.figsize'] = 10, 7\n",
    "plt.rc('text', usetex=True)\n",
    "plt.rcParams['text.usetex']=True\n",
    "plt.rc('font', family='sans-serif', weight='bold')\n",
    "\n",
    "SMALL_SIZE = 20\n",
    "MEDIUM_SIZE = 20\n",
    "BIGGER_SIZE = 25\n",
    "\n",
    "plt.rc('font', size=SMALL_SIZE)          # controls default text sizes\n",
    "plt.rc('axes', titlesize=BIGGER_SIZE)    # fontsize of the axes title\n",
    "plt.rc('axes', labelsize=MEDIUM_SIZE)    # fontsize of the x and y labels\n",
    "plt.rc('xtick', labelsize=SMALL_SIZE)    # fontsize of the tick labels\n",
    "plt.rc('ytick', labelsize=SMALL_SIZE)    # fontsize of the tick labels\n",
    "plt.rc('legend', fontsize=SMALL_SIZE)    # legend fontsize\n",
    "plt.rc('figure', titlesize=BIGGER_SIZE)  # fontsize of the figure title\n",
    "plt.rcParams['figure.dpi'] = 500\n",
    "\n",
    "save_figures_to_latex = False\n",
    "figures_path = '/home/tellocam/Projects/HPC/Exercise_2/latex_ex_2/figures'\n",
    "\n",
    "\n",
    "\n",
    "\n"
   ]
  },
  {
   "cell_type": "code",
   "execution_count": 34,
   "metadata": {},
   "outputs": [],
   "source": [
    "txt_files = glob.glob(\"EX1_*.txt\")\n",
    "\n",
    "def change_filename(txt_name):\n",
    "    # Create number of nodes String prefix\n",
    "    if 'EX1_1' in txt_name: N = 'N1_'\n",
    "    if 'EX1_20' in txt_name: N = 'N20_'\n",
    "    if 'EX1_32' in txt_name: N = 'N32_'\n",
    "    # Create Tasks Per Node String\n",
    "    if '_1_' in txt_name: TPN = 'TPN1_'\n",
    "    if '_16_' in txt_name: TPN = 'TPN16_'\n",
    "    if '_32_' in txt_name: TPN = 'TPN32_'\n",
    "    # Create power String Suffix\n",
    "    if '_2.txt' in txt_name: P = 'P2'\n",
    "    if '_10.txt' in txt_name: P = 'P10'\n",
    "    return N + TPN + P\n",
    "\n",
    "df_dict = {}\n",
    "for file in txt_files:\n",
    "    df = pd.read_csv(file, sep=',', header=None)\n",
    "    df.rename(columns={0:\"count\", 1:\"bytes\", 2:\"avg\", 3:\"min\", 4:\"med\", 5:\"stddev\", 6:\"CI\"}, inplace=True)\n",
    "    df_dict[change_filename(file)] = df"
   ]
  },
  {
   "cell_type": "code",
   "execution_count": null,
   "metadata": {},
   "outputs": [],
   "source": []
  }
 ],
 "metadata": {
  "kernelspec": {
   "display_name": "Python 3",
   "language": "python",
   "name": "python3"
  },
  "language_info": {
   "codemirror_mode": {
    "name": "ipython",
    "version": 3
   },
   "file_extension": ".py",
   "mimetype": "text/x-python",
   "name": "python",
   "nbconvert_exporter": "python",
   "pygments_lexer": "ipython3",
   "version": "3.8.10"
  },
  "orig_nbformat": 4,
  "vscode": {
   "interpreter": {
    "hash": "916dbcbb3f70747c44a77c7bcd40155683ae19c65e1c03b4aa3499c5328201f1"
   }
  }
 },
 "nbformat": 4,
 "nbformat_minor": 2
}
